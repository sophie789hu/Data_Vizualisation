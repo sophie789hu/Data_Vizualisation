{
 "cells": [
  {
   "cell_type": "markdown",
   "metadata": {},
   "source": [
    "In the area of the #meetoo, the question around gender equity araises (again) for the greatest interest of Wmen.\n",
    "Recent concerns have been adressed regarding our skewed vision of genders.\n",
    "Media, society, family... each of these factors and even more affect our jugdment against Women. Those contribute to \n",
    "the sustainment of gender stereotypes and prejudices, inherited by our Judeo-Christian culture.\n",
    "\n",
    "Isn't it interesting to notice that the gender inequality starts from the omni-presence of male characters in our surrounding?\n",
    "And even in the Comics literacy.\n",
    "\n",
    "The brief analysis below does not aim to blaim DC and Marvel but more to encourage them to create more female characters in their stories.\n",
    "\n",
    "Python version : v7.3.7"
   ]
  },
  {
   "cell_type": "code",
   "execution_count": 1,
   "metadata": {},
   "outputs": [
    {
     "ename": "ModuleNotFoundError",
     "evalue": "No module named 'squarify'",
     "output_type": "error",
     "traceback": [
      "\u001b[1;31m---------------------------------------------------------------------------\u001b[0m",
      "\u001b[1;31mModuleNotFoundError\u001b[0m                       Traceback (most recent call last)",
      "\u001b[1;32m<ipython-input-1-19c455aec445>\u001b[0m in \u001b[0;36m<module>\u001b[1;34m\u001b[0m\n\u001b[0;32m      7\u001b[0m \u001b[1;32mimport\u001b[0m \u001b[0mpandas\u001b[0m \u001b[1;32mas\u001b[0m \u001b[0mpd\u001b[0m\u001b[1;33m\u001b[0m\u001b[1;33m\u001b[0m\u001b[0m\n\u001b[0;32m      8\u001b[0m \u001b[1;32mimport\u001b[0m \u001b[0mseaborn\u001b[0m \u001b[1;32mas\u001b[0m \u001b[0msns\u001b[0m\u001b[1;33m\u001b[0m\u001b[1;33m\u001b[0m\u001b[0m\n\u001b[1;32m----> 9\u001b[1;33m \u001b[1;32mimport\u001b[0m \u001b[0msquarify\u001b[0m\u001b[1;33m\u001b[0m\u001b[1;33m\u001b[0m\u001b[0m\n\u001b[0m\u001b[0;32m     10\u001b[0m \u001b[1;32mfrom\u001b[0m \u001b[0msklearn_pandas\u001b[0m \u001b[1;32mimport\u001b[0m \u001b[0mCategoricalImputer\u001b[0m\u001b[1;33m\u001b[0m\u001b[1;33m\u001b[0m\u001b[0m\n",
      "\u001b[1;31mModuleNotFoundError\u001b[0m: No module named 'squarify'"
     ]
    }
   ],
   "source": [
    "import re\n",
    "from datetime import datetime\n",
    "\n",
    "import matplotlib.gridspec as gridspec\n",
    "import matplotlib.pyplot as plt\n",
    "import numpy as np\n",
    "import pandas as pd\n",
    "import seaborn as sns\n",
    "import squarify\n",
    "from sklearn_pandas import CategoricalImputer"
   ]
  },
  {
   "cell_type": "code",
   "execution_count": null,
   "metadata": {},
   "outputs": [],
   "source": [
    "# IMPORT OF DC AND MARVEL DATASETS\n",
    "df_dc = pd.read_csv(\"dc-wikia-data.csv\")\n",
    "df_marvel = pd.read_csv(\"marvel-wikia-data.csv\")"
   ]
  },
  {
   "cell_type": "markdown",
   "metadata": {},
   "source": [
    "# DESCRIPTION OF DC and MARVEL DATASETS"
   ]
  },
  {
   "cell_type": "code",
   "execution_count": null,
   "metadata": {},
   "outputs": [],
   "source": [
    "def DescribeDataframe(df_dc, df_marvel):\n",
    "    \"\"\" Describe dataframe \"\"\"\n",
    "    for df in [df_dc, df_marvel]:\n",
    "        print(df.info())\n",
    "        print(df.head())\n",
    "        print(df.describe())\n",
    "\n",
    "\n",
    "DescribeDataframe(df_dc, df_marvel)"
   ]
  },
  {
   "cell_type": "markdown",
   "metadata": {},
   "source": [
    "The DC dataset contains 6896 entries such as each entry represents one character.\n",
    "Each character is characterized by 13 variables or columns, such as:\n",
    "1 - \"page_id\" of type integer, corresponds to the unique identifier of the character's page\n",
    "2 - \"name\" of type object, corresponds to the unique name of the character. Most of the time,\n",
    "   - if the character is a super-hero: \"nickname\" + \"civil first and last name\" in brankets (ex: \"Batman (Bruce Wayne)\"\")\n",
    "   - if the character is not a super-hero: \"civil first and last name\" + \"universe\" in brankets (ex: \"James Gordon (New Earth)\")\n",
    "   The universes are \"Earth-Two\", \"Earth-One\" or \"New Earth\".\n",
    "3 - \"urlslug\" of type object, corresponds to the unique url of the character within the wiki in \"dc.fandom.com\".\n",
    "4 - \"ID\" of type object, indicates the identity status of the character: \"Secret Identity\", \"Public Identity\" or \"Identity Unknown\".\n",
    "5 - \"ALIGN\" of type object, indicates if one character is good (\"Good Characters\"), bad (\"Bad Characters\"), neutral (\"Neutral Characters\") or \"Reformed Criminals\".\n",
    "6 - \"EYE\" of type object, indicates the eye color of the character. There are 17 options from \"Blue Eyes\" to \"Orange Eyes\". The option \"Auburn Hair\" may be an error.\n",
    "7 - \"HAIR\" of type object, indicates the hair color of the character. There are 17 options from \"Black Hair\" to \"Platinum Blond Hair\".\n",
    "8 - \"SEX\" of type object, indicates the gender of the character: \"Male Characters\", \"Female Characters\", \"Genderless Characters\"\n",
    "9 - \"GSM\" of type object, indicates if the character is a gender or sexual minority: \"Bisexual Characters\" or \"Homosexual Characters\".\n",
    "10 - \"ALIVE\" of type object, indicates if the character is alive (\"Living Characters\") or deceased (\"Deceased Characters\")\n",
    "11 - \"APPEARANCES\" of type object, indicates the number of appareances of the character in comic books (as of Sep. 2, 2014)\n",
    "12 - \"FIRST APPEARANCE\" of type object, indicates the year and the month of the character's first appearance in a comic book, if available\n",
    "13 - \"YEAR\" of type float, indicates the year of the character's first appearance in a comic book, if available. The year in the column \"YEAR\" is equal\n",
    "The Marvel dataset contains 16376 entries such as each entry represents one character.\n",
    "Each character is characterized by 13 variables or columns, same as in the dataset df_dc."
   ]
  },
  {
   "cell_type": "markdown",
   "metadata": {},
   "source": [
    "# DATA CLEANING"
   ]
  },
  {
   "cell_type": "code",
   "execution_count": null,
   "metadata": {},
   "outputs": [],
   "source": [
    "def AlignColumn(df_dc, df_marvel):\n",
    "    \"\"\" Align column names \"\"\"\n",
    "    list_df = [df_dc, df_marvel]\n",
    "    for df in list_df:\n",
    "        df.columns = df.columns.str.upper()\n",
    "        df.rename(columns={'ID': 'IDENTITY TYPE', 'SEX': 'GENDER', 'APPEARANCES': 'NUMBER OF APPEARANCES',\n",
    "                           'FIRST APPEARANCE': 'DATE OF FIRST APPEARANCE', 'YEAR': 'YEAR OF FIRST APPEARANCE', 'ALIGN': 'TEAM'}, inplace=True)\n",
    "    return df_dc, df_marvel"
   ]
  },
  {
   "cell_type": "code",
   "execution_count": null,
   "metadata": {},
   "outputs": [],
   "source": [
    "def CompareDataType(df_dc, df_marvel):\n",
    "    \"\"\" Compare column data type \"\"\"\n",
    "    for col in df_dc.columns:\n",
    "        if df_dc[col].dtype != df_marvel[col].dtype:\n",
    "            print(col)\n",
    "        else:\n",
    "            print(col, \":\", df_dc[col].dtype, \"vs.\", df_marvel[col].dtype)"
   ]
  },
  {
   "cell_type": "code",
   "execution_count": null,
   "metadata": {},
   "outputs": [],
   "source": [
    "def AlignData(df_dc, df_marvel):\n",
    "    \"\"\" Align data name and value \"\"\"\n",
    "    list_df = [df_dc, df_marvel]\n",
    "    for df in list_df:\n",
    "        # Align data type\n",
    "        df[\"NUMBER OF APPEARANCES\"] = df[\"NUMBER OF APPEARANCES\"].apply(lambda line: int(line) if pd.isnull(line) is False else None)\n",
    "        df[\"YEAR OF FIRST APPEARANCE\"] = df[\"YEAR OF FIRST APPEARANCE\"].apply(lambda line: str(int(line)) if pd.isnull(line) is False else None)\n",
    "        # Align data value in column\n",
    "        df.GENDER = df.GENDER.str.replace(\" Characters\", \"\")\n",
    "        print(df.GENDER)\n",
    "        df.GENDER.replace(r\"Agender|Genderless|Genderfluid|Transgender\", \"Other\", regex=True, inplace=True)\n",
    "        df.TEAM = df.TEAM.str.replace(\" Characters\", \"\")\n",
    "        df.TEAM = df.TEAM.str.replace(\"Reformed Criminals\", \"Neutral\")\n",
    "        df[\"IDENTITY TYPE\"].replace(r\"Identity Unknown|No Dual Identity|Known to Authorities Identity\", \"Other\", regex=True, inplace=True)\n",
    "        df[\"IDENTITY TYPE\"] = df[\"IDENTITY TYPE\"].str.replace(\" Identity\", \"\")\n",
    "        df.ALIVE = df.ALIVE.str.replace(\" Characters\", \"\")\n",
    "        df.ALIVE.replace(\"Living\", \"Alive\", regex=True, inplace=True)\n",
    "        df.ALIVE.replace(\"Deceased\", \"Dead\", regex=True, inplace=True)\n",
    "    return df_dc, df_marvel"
   ]
  },
  {
   "cell_type": "code",
   "execution_count": null,
   "metadata": {},
   "outputs": [],
   "source": [
    "def CompareYears_dc(df_dc):\n",
    "    \"\"\" Compare year in \"FIRST APPEARANCE\" and \"YEAR OF FIRST APPEARANCE\" columns - in df_dc\"\"\"\n",
    "    year_in_date_dc = df_dc[\"DATE OF FIRST APPEARANCE\"].apply(lambda line: line.split(\",\")[0] if pd.isnull(line) is False else False)\n",
    "    year_in_year_dc = df_dc[\"YEAR OF FIRST APPEARANCE\"].apply(lambda line: line if pd.isnull(line) is False else False)\n",
    "    print(year_in_date_dc[year_in_date_dc != year_in_year_dc])"
   ]
  },
  {
   "cell_type": "code",
   "execution_count": null,
   "metadata": {},
   "outputs": [],
   "source": [
    "def CompareYears_marvel(df_marvel):\n",
    "    \"\"\" Compare year in \"FIRST APPEARANCE\" and \"YEAR OF FIRST APPEARANCE\" columns - in df_marvel\"\"\"\n",
    "    year_in_date_marvel = df_marvel[\"DATE OF FIRST APPEARANCE\"].apply(lambda line: line[-2:] if pd.isnull(line) is False else True)\n",
    "    year_in_year_marvel = df_marvel[\"YEAR OF FIRST APPEARANCE\"].apply(lambda line: str(int(line))[2:] if pd.isnull(line) is False else True)\n",
    "    print(year_in_date_marvel[year_in_date_marvel != year_in_year_marvel])"
   ]
  },
  {
   "cell_type": "code",
   "execution_count": null,
   "metadata": {},
   "outputs": [],
   "source": [
    "def VerifyUnicity(df_dc, df_marvel):\n",
    "    \"\"\" Verify if the unique values are not shared by Marvel and DC \"\"\"\n",
    "    sharedPageIds = df_dc[df_dc[\"PAGE_ID\"].isin(df_marvel[\"PAGE_ID\"]) == True]\n",
    "    print(sharedPageIds)\n",
    "    namesOfSharedPageIds = sharedPageIds[sharedPageIds[\"NAME\"].isin(df_marvel[\"NAME\"]) == True]\n",
    "    print(namesOfSharedPageIds)\n",
    "    sharedNames = df_dc[df_dc[\"NAME\"].isin(df_marvel[\"NAME\"]) == True]\n",
    "    print(sharedNames)\n",
    "    sharedUrls = df_dc[df_dc[\"URLSLUG\"].isin(df_marvel[\"URLSLUG\"]) == True]\n",
    "    print(sharedUrls)"
   ]
  },
  {
   "cell_type": "code",
   "execution_count": null,
   "metadata": {},
   "outputs": [],
   "source": [
    "def MaintainUniqueness(df_dc, df_marvel):\n",
    "    \"\"\" Maintain uniqueness by creating new ids and source column \"\"\"\n",
    "    df_dc[\"NEW_PAGEID\"] = df_dc[\"PAGE_ID\"].apply(lambda id: str(id)+\"_dc\")\n",
    "    df_marvel[\"NEW_PAGEID\"] = df_marvel[\"PAGE_ID\"].apply(lambda id: str(id)+\"_marvel\")\n",
    "    df_dc[\"COMICS\"] = \"DC\"\n",
    "    df_marvel[\"COMICS\"] = \"Marvel\"\n",
    "    return df_dc, df_marvel"
   ]
  },
  {
   "cell_type": "code",
   "execution_count": null,
   "metadata": {},
   "outputs": [],
   "source": [
    "def AppendDf(df_dc, df_marvel):\n",
    "    \"\"\" Append df_dc and df_marvel \"\"\"\n",
    "    df_Comics = df_dc.append(df_marvel, sort=False).reset_index(drop=True)\n",
    "    df_Comics.drop([\"PAGE_ID\", \"URLSLUG\", \"DATE OF FIRST APPEARANCE\"], axis=1, inplace=True)\n",
    "    return df_Comics"
   ]
  },
  {
   "cell_type": "code",
   "execution_count": null,
   "metadata": {},
   "outputs": [],
   "source": [
    "def MissingValue(df_Comics):\n",
    "    \"\"\" Count the missing values \"\"\"\n",
    "    list_missingValue = list()\n",
    "    list_ratio = list()\n",
    "    for col in df_Comics.columns:\n",
    "        missingValue = df_Comics[col].isna().sum()\n",
    "        ratio = \"{:.2%}\".format(missingValue/len(df_Comics))\n",
    "        list_missingValue.append(missingValue)\n",
    "        list_ratio.append(ratio)\n",
    "    df_missingValue = pd.DataFrame({\"column\": df_Comics.columns, \"number of missing values\": list_missingValue, \"ratio\": list_ratio})\n",
    "    df_missingValue.sort_values(by=['number of missing values'], ascending=False, inplace=True)\n",
    "    df_missingValue.reset_index(drop=True, inplace=True)\n",
    "    return df_missingValue"
   ]
  },
  {
   "cell_type": "code",
   "execution_count": null,
   "metadata": {},
   "outputs": [],
   "source": [
    "def PlotMissingValue(df_missingValue):\n",
    "    \"\"\" Plot missing values \"\"\"\n",
    "    custom_palette = {}\n",
    "    for value in range(len(df_missingValue)):\n",
    "        if df_missingValue[\"number of missing values\"][value] > 6000:\n",
    "            custom_palette[df_missingValue[\"column\"][value]] = 'lightsalmon'\n",
    "        else:\n",
    "            custom_palette[df_missingValue[\"column\"][value]] = 'lightgrey'\n",
    "\n",
    "    missingValue_fig = plt.figure(figsize=(8, 5))\n",
    "    missingValue_ax = sns.barplot(x=\"column\", y=\"number of missing values\",\n",
    "                                    palette=custom_palette,\n",
    "                                    data=df_missingValue)\n",
    "    missingValue_ax.set_title(\"Missing values per column in df_Comics\", fontsize=12)\n",
    "    for index, column in enumerate(missingValue_ax.patches):\n",
    "        height = column.get_height()\n",
    "        missingValue_ax.text(\n",
    "            index,  # bar index (x coordinate of text)\n",
    "            height+500,  # y coordinate of text\n",
    "            '{}'.format(df_missingValue[\"ratio\"][index]),  # y label\n",
    "            ha='center',\n",
    "            va='center',\n",
    "            fontweight='light',\n",
    "            size=10)\n",
    "    missingValue_ax.set(xlabel=None, ylabel=None)\n",
    "    missingValue_ax.set_xticklabels(labels=range(1, 14))\n",
    "    sns.despine(left=True, bottom=True)\n",
    "    missingValue_fig.show()\n",
    "    return missingValue_fig, missingValue_ax"
   ]
  },
  {
   "cell_type": "code",
   "execution_count": null,
   "metadata": {},
   "outputs": [],
   "source": [
    "def CleanMissingValue(df_Comics):\n",
    "    \"\"\" Clean missing values \"\"\"\n",
    "    # Drop columns \"EYE\", \"GSM\" and \"HAIR\" (containing <25% missing values)\n",
    "    df_Comics.drop([\"EYE\", \"GSM\", \"HAIR\"], axis=1, inplace=True)\n",
    "    # Drop \"ALIVE\" and \"YEAR OF FIRST APPEARANCE\" missing values (containing <4% missings values)\n",
    "    df_Comics.dropna(subset=[\"ALIVE\", \"YEAR OF FIRST APPEARANCE\"], inplace=True)\n",
    "    # Fill \"NUMBER OF APPEARANCES\" missing values with mean\n",
    "    appearancesMean = df_Comics[\"NUMBER OF APPEARANCES\"].mean()\n",
    "    df_Comics[\"NUMBER OF APPEARANCES\"] = df_Comics[\"NUMBER OF APPEARANCES\"].fillna(appearancesMean)\n",
    "    # Fill \"GENDER\", \"IDENTITY TYPE\" and \"TEAM\" missing values with most frequent value.\n",
    "    imputer = CategoricalImputer()\n",
    "    df_Comics[\"GENDER\"] = imputer.fit_transform(df_Comics[\"GENDER\"])\n",
    "    df_Comics[\"IDENTITY TYPE\"] = imputer.fit_transform(df_Comics[\"IDENTITY TYPE\"])\n",
    "    df_Comics[\"TEAM\"] = imputer.fit_transform(df_Comics[\"TEAM\"])\n",
    "    return df_Comics\n"
   ]
  },
  {
   "cell_type": "code",
   "execution_count": null,
   "metadata": {},
   "outputs": [],
   "source": [
    "df_dc, df_marvel = AlignColumn(df_dc, df_marvel)\n",
    "CompareDataType(df_dc, df_marvel)\n",
    "df_dc, df_marvel = AlignData(df_dc, df_marvel)\n",
    "CompareYears_dc(df_dc)\n",
    "CompareYears_marvel(df_marvel)\n",
    "VerifyUnicity(df_dc, df_marvel)  # 476 different characters share the same page_ids. Neither Marvel or DC created a character with the same name or with the same URLSLUG.\n",
    "df_dc, df_marvel = MaintainUniqueness(df_dc, df_marvel)\n",
    "df_Comics = AppendDf(df_dc, df_marvel)\n",
    "df_missingValue = MissingValue(df_Comics)\n",
    "missingValue_fig, missingValue_ax = PlotMissingValue(df_missingValue)\n",
    "df_Comics = CleanMissingValue(df_Comics)  # Df_Comics has been cut by 0,04% from 22192 rows to 22291 rows."
   ]
  },
  {
   "cell_type": "markdown",
   "metadata": {},
   "source": [
    "# EXPLORATORY DATA ANALYSIS"
   ]
  },
  {
   "cell_type": "code",
   "execution_count": null,
   "metadata": {},
   "outputs": [],
   "source": [
    "def setAx(axs):\n",
    "    \"\"\" Set plot axes\"\"\"\n",
    "    for ax in axs:\n",
    "        ax.set(xlabel=None, ylabel=None)\n",
    "        ax.tick_params(labelsize=7)\n",
    "    sns.despine(left=True, bottom=True)\n",
    "    return"
   ]
  },
  {
   "cell_type": "markdown",
   "metadata": {},
   "source": [
    "I - Gender disparity in the Comics Industry"
   ]
  },
  {
   "cell_type": "code",
   "execution_count": null,
   "metadata": {},
   "outputs": [],
   "source": [
    "# Set the figure\n",
    "genderDisparity_fig = plt.figure(figsize=(9, 5))\n",
    "genderDisparity_spec = gridspec.GridSpec(ncols=2, nrows=2, figure=genderDisparity_fig)\n",
    "genderDisparity_ax1 = genderDisparity_fig.add_subplot(genderDisparity_spec[0, 0])\n",
    "genderDisparity_ax2 = genderDisparity_fig.add_subplot(genderDisparity_spec[0, 1])\n",
    "genderDisparity_ax3 = genderDisparity_fig.add_subplot(genderDisparity_spec[1, :])\n",
    "palette = [\"lightblue\", \"pink\", \"moccasin\"]\n",
    "genderDisparity_fig.text(s=\"Gender inequality in Comic literacy is undeniable\", x=0.09, y=0.95, fontsize=15)\n",
    "genderDisparity_fig.suptitle(\"Female characters are three times less represented than male and it is not improving over time\", x=0.5, y=0.93, fontsize=11)\n",
    "# Subplot 1 - Gnder disparty of the population\n",
    "ratioGender = [\"{:.2%}\".format(df_Comics.GENDER.value_counts()[gender]/len(df_Comics)) for gender in range(3)]\n",
    "labelRatio = [df_Comics.GENDER.unique()[gender] + \"\\n (\" + ratioGender[gender] + \")\" for gender in range(3)]\n",
    "countGender_ax = squarify.plot(sizes=df_Comics.GENDER.value_counts(),  label=labelRatio, color=palette, text_kwargs={'fontsize': 7}, ax=genderDisparity_ax1)\n",
    "countGender_ax.axis('off')\n",
    "# Subplot 2 - Gender disparty per Comics\n",
    "genderPerComics_ax = sns.countplot(x=\"COMICS\", hue=\"GENDER\", data=df_Comics, palette=palette, ax=genderDisparity_ax2)\n",
    "genderPerComics_ax.legend_.remove()\n",
    "# Subplot 3 - Number of character created per year\n",
    "creationPerComics = df_Comics.groupby([\"YEAR OF FIRST APPEARANCE\", \"GENDER\"]).count()[[\"NAME\"]].reset_index()\n",
    "creationPerComics[\"YEAR OF FIRST APPEARANCE\"] = creationPerComics[\"YEAR OF FIRST APPEARANCE\"].apply(int)\n",
    "creationPerComics_ax = sns.lineplot(x=\"YEAR OF FIRST APPEARANCE\", y=\"NAME\", data=creationPerComics, hue=\"GENDER\", palette=palette, ax=genderDisparity_ax3)\n",
    "creationPerComics_ax.legend_.remove()\n",
    "# Set the axes\n",
    "setAx([countGender_ax, genderPerComics_ax, creationPerComics_ax])\n",
    "plt.show()"
   ]
  },
  {
   "cell_type": "markdown",
   "metadata": {},
   "source": [
    "II - Representation of the chracters by role"
   ]
  },
  {
   "cell_type": "code",
   "execution_count": null,
   "metadata": {},
   "outputs": [],
   "source": [
    "# Set the figure\n",
    "roleGender_fig, (roleGender_axe1, roleGender_axe2, roleGender_axe3) = plt.subplots(1, 3, figsize=(10, 3))\n",
    "roleGender_fig.text(s=\"While distribution of role per gender is quite proportionated \", x=0.09, y=0.94, fontsize=15)\n",
    "roleGender_fig.suptitle('It seems like Comic writers may perceive female characters as more likely to be a good person than male characters', x=0.5, y=0.92, fontsize=10)\n",
    "palette2 = [\"pink\", \"lightblue\", \"moccasin\"]\n",
    "# Subplot 1 - Gender disparity per ALIVE\n",
    "genderIfAlive = df_Comics.groupby([\"GENDER\", \"ALIVE\"]).count()[[\"NAME\"]].reset_index()\n",
    "genderIfAlive.sort_values([\"GENDER\", \"ALIVE\"], ascending=[True, False], inplace=True)\n",
    "genderIfAlive_label = list(genderIfAlive.ALIVE[:4])\n",
    "genderIfAlive_index = list(genderIfAlive.NAME[:4])\n",
    "explode = (0.1, 0.15, 0, 0)\n",
    "colors_genderIfAlive = [\"pink\", \"pink\", \"lightblue\", \"lightblue\"]\n",
    "roleGender_axe1.pie(genderIfAlive_index, explode=explode, labels=genderIfAlive_label, autopct='%1.1f%%', startangle=90,\n",
    "                    colors=colors_genderIfAlive, wedgeprops={\"edgecolor\": \"1\", 'linewidth': 1}, textprops={'fontsize': 7})\n",
    "# Subplot 2 - Gender disparity per IDENTITY TYPE\n",
    "genderPerIdentity = df_Comics.groupby([\"GENDER\", \"IDENTITY TYPE\"]).count()[[\"NAME\"]].reset_index()\n",
    "genderPerIdentity.sort_values([\"GENDER\", \"IDENTITY TYPE\"], ascending=[True, False], inplace=True)\n",
    "genderPerIdentity_ax = sns.barplot(x=\"IDENTITY TYPE\", y=\"NAME\", data=genderPerIdentity, hue=\"GENDER\", ax=roleGender_axe2, palette=palette2)\n",
    "genderPerIdentity_ax.legend_.remove()\n",
    "# Subplot 3 - Gender disparity per TEAM \n",
    "genderPerTeam = df_Comics.groupby([\"GENDER\", \"TEAM\"]).count()[[\"NAME\"]].reset_index()\n",
    "genderPerTeam.ticks = range(0,3)\n",
    "genderPerTeam.names = genderPerTeam.TEAM.unique()\n",
    "bars1 = genderPerTeam[genderPerTeam.GENDER == \"Female\"].NAME.tolist()\n",
    "bars2 = genderPerTeam[genderPerTeam.GENDER == \"Male\"].NAME.tolist()\n",
    "bars3 = genderPerTeam[genderPerTeam.GENDER == \"Other\"].NAME.tolist()\n",
    "bars1_2 = np.add(bars1, bars2).tolist()\n",
    "roleGender_axe3.bar(genderPerTeam.names, bars1, color=\"pink\", edgecolor='white')\n",
    "roleGender_axe3.bar(genderPerTeam.names, bars2, bottom = bars1, color=\"lightblue\", edgecolor='white')\n",
    "roleGender_axe3.bar(genderPerTeam.names, bars3, bottom=bars1_2, color=\"moccasin\", edgecolor='white')\n",
    "# Set the axes\n",
    "setAx([roleGender_axe1, roleGender_axe2, roleGender_axe3])\n",
    "plt.show()"
   ]
  },
  {
   "cell_type": "markdown",
   "metadata": {},
   "source": [
    "III - Analysis focused on the top 50 most popular Comics characters"
   ]
  },
  {
   "cell_type": "code",
   "execution_count": null,
   "metadata": {},
   "outputs": [],
   "source": [
    "# Set the figure\n",
    "top50_df_fig = plt.figure(figsize=(10, 6))\n",
    "top50_df_spec = gridspec.GridSpec(ncols=3, nrows=3, figure=top50_df_fig)\n",
    "top50_df_ax1 = top50_df_fig.add_subplot(top50_df_spec[0, :2])\n",
    "top50_df_ax2 = top50_df_fig.add_subplot(top50_df_spec[1, :2])\n",
    "top50_df_ax3 = top50_df_fig.add_subplot(top50_df_spec[2, :2])\n",
    "top50_df_ax4 = top50_df_fig.add_subplot(top50_df_spec[0, 2])\n",
    "top50_df_ax5 = top50_df_fig.add_subplot(top50_df_spec[1, 2])\n",
    "top50_df_ax6 = top50_df_fig.add_subplot(top50_df_spec[2, 2])\n",
    "top50_df_fig.text(s=\"Gender disparity among the top 50 is quite representative of the population\", x=0.1, y=0.93, fontsize=15)\n",
    "top50_df_fig.suptitle(\"While repartition of roles is quite even, more popular male characters are created than female characters\", x=0.47, y=0.92, fontsize=10)\n",
    "# Subplot 1 - Distribution per number of appeareances\n",
    "df_Comics[\"bins_NbOfAppearances\"] = pd.cut(df_Comics[\"NUMBER OF APPEARANCES\"], np.arange(0, 4500, 1000))\n",
    "top50_df = df_Comics.nlargest(50, \"NUMBER OF APPEARANCES\")\n",
    "top50_df_Count_ax = sns.countplot(x=\"bins_NbOfAppearances\", hue=\"GENDER\", data=top50_df, palette=palette, ax=top50_df_ax1)\n",
    "top50_df_Count_ax.set(xlabel=None, ylabel=None, xticklabels= [1000, 2000, 3000, 4000])\n",
    "# Subplot 2 - Corrolation betwwen number of appeareances and year of creation _ male\n",
    "subset_Top50_Male = top50_df[top50_df[\"GENDER\"] == \"Male\"]\n",
    "df_appearanceCorrolation_Top50_Male = pd.crosstab(subset_Top50_Male[\"bins_NbOfAppearances\"], subset_Top50_Male[\"YEAR OF FIRST APPEARANCE\"])\n",
    "df_appearanceCorrolation_Top50_Male.sort_values(by=[\"bins_NbOfAppearances\"], ascending=True)\n",
    "top50_maleAppearance_ax = sns.heatmap(df_appearanceCorrolation_Top50_Male, cmap=\"GnBu\", ax=top50_df_ax2, linewidths=.5, cbar=False)\n",
    "top50_maleAppearance_ax.set(xlabel=None, ylabel=None, yticklabels=[1000, 2000, 3000, 4000])\n",
    "top50_maleAppearance_ax.tick_params(axis='both', which='major', labelsize=8, rotation=0)\n",
    "# Subplot 3 - Corrolation betwwen number of appeareances and year of creation _ female\n",
    "subset_Top50_Female = top50_df[top50_df[\"GENDER\"] == \"Female\"]\n",
    "df_appearanceCorrolation_Top50_Female = pd.crosstab(subset_Top50_Female[\"bins_NbOfAppearances\"], subset_Top50_Female[\"YEAR OF FIRST APPEARANCE\"])\n",
    "df_appearanceCorrolation_Top50_Female.sort_values(by=[\"bins_NbOfAppearances\"], ascending=True)\n",
    "top50_femaleAppearance_ax = sns.heatmap(df_appearanceCorrolation_Top50_Female, cmap=\"RdPu\", ax=top50_df_ax3, linewidths=.5, cbar=False)\n",
    "top50_femaleAppearance_ax.set(xlabel=None, ylabel=None, yticklabels=[1000, 2000])\n",
    "top50_femaleAppearance_ax.tick_params(axis='both', which='major', labelsize=8, rotation=0)\n",
    "# Subplot 4 - Gender disparity per ALIVE\n",
    "top50_Alive = pd.crosstab(top50_df[\"ALIVE\"].count(), [top50_df[\"ALIVE\"], top50_df[\"GENDER\"]])\n",
    "top50_Alive_ratio = [\"{:.2%}\".format(float((top50_Alive.iloc[0][gender]/top50_Alive.index.values[0]))) for gender in range(4)]\n",
    "top50_Alive_index = [\"Alive\", \"Alive\", \"Dead\", \"Dead\"]\n",
    "top50_Alive_label = [top50_Alive_index[gender] + \"\\n (\" + top50_Alive_ratio[gender] + \")\" for gender in range(4)]\n",
    "top50_Alive_ax = squarify.plot(sizes=list(top50_Alive.values[0]), label=top50_Alive_label, color=[\"pink\",\"lightblue\",\"lavenderblush\",\"powderblue\"], text_kwargs={'fontsize': 7}, ax=top50_df_ax4)\n",
    "top50_Alive_ax.axis('off')\n",
    "# Subplot 5 - Gender disparity per IDENTITY TYPE\n",
    "top50_IdentityType = pd.crosstab(top50_df[\"IDENTITY TYPE\"].count(), [top50_df[\"IDENTITY TYPE\"], top50_df[\"GENDER\"]])\n",
    "top50_IdentityType_ratio = [\"{:.2%}\".format(float((top50_IdentityType.iloc[0][gender]/top50_IdentityType.index.values[0]))) for gender in range(6)]\n",
    "top50_IdentityType_index = [\"Other\", \"Other\", \"Public\", \"Public\", \"Secret\", \"Secret\"]\n",
    "top50_IdentityType_label = [top50_IdentityType_index[gender] + \"\\n (\" + top50_IdentityType_ratio[gender] + \")\" for gender in range(6)]\n",
    "palette3=[\"lavenderblush\",\"powderblue\",\"pink\",\"lightblue\",\"lightpink\",\"lightskyblue\"]\n",
    "top50_IdentityType_ax = squarify.plot(sizes=list(top50_IdentityType.values[0]), color=palette3, label=top50_IdentityType_label, text_kwargs={'fontsize': 7}, ax=top50_df_ax5)\n",
    "top50_IdentityType_ax.axis('off')\n",
    "# Subplot 6 - Gender disparity per TEAM \n",
    "top50_Team = pd.crosstab(top50_df[\"IDENTITY TYPE\"].count(), [top50_df[\"TEAM\"], top50_df[\"GENDER\"]])\n",
    "top50_Team_ratio = [\"{:.2%}\".format(float((top50_Team.iloc[0][gender]/top50_Team.index.values[0]))) for gender in range(3)]\n",
    "top50_Team_index = [\"Good\", \"Good\", \"Neutral\"]\n",
    "top50_Team_label = [top50_Team_index[gender] + \"\\n (\" + top50_Team_ratio[gender] + \")\" for gender in range(3)]\n",
    "palette3=[\"pink\",\"lightblue\",\"powderblue\"]\n",
    "top50_Team_ax = squarify.plot(sizes=list(top50_Team.values[0]), color=palette3, label=top50_Team_label, text_kwargs={'fontsize': 7}, ax=top50_df_ax6)\n",
    "top50_Team_ax.axis('off')\n",
    "# Set the axes\n",
    "setAx([top50_df_ax1, top50_df_ax2, top50_df_ax3, top50_df_ax4, top50_df_ax5, top50_df_ax6])\n",
    "for ax in [top50_df_Count_ax, top50_Alive_ax, top50_IdentityType_ax, top50_Team_ax]:\n",
    "    ax.legend_.remove()\n",
    "plt.show()"
   ]
  },
  {
   "cell_type": "markdown",
   "metadata": {},
   "source": [
    "IV - EXPORT PLOTS"
   ]
  },
  {
   "cell_type": "code",
   "execution_count": null,
   "metadata": {},
   "outputs": [],
   "source": [
    "def SavePlots(missingValue_fig, title):\n",
    "    \"\"\" Save plot into images \"\"\"\n",
    "    for name in [missingValue_fig]:\n",
    "        today = datetime.now().strftime(\"%Y_%m_%d_%H-%M\")\n",
    "        titleName = title +\"_\"+today+\".png\"\n",
    "        print(titleName)\n",
    "        name.savefig(titleName)\n",
    "\n",
    "\n",
    "SavePlots(missingValue_fig,\"missingValue\")\n",
    "SavePlots(genderDisparity_fig,\"genderDisparity\")\n",
    "SavePlots(roleGender_fig, \"roleGender\")\n",
    "SavePlots(top50_df_fig, \"top50_df\")"
   ]
  },
  {
   "cell_type": "code",
   "execution_count": null,
   "metadata": {},
   "outputs": [],
   "source": []
  },
  {
   "cell_type": "code",
   "execution_count": null,
   "metadata": {},
   "outputs": [],
   "source": []
  },
  {
   "cell_type": "code",
   "execution_count": null,
   "metadata": {},
   "outputs": [],
   "source": []
  }
 ],
 "metadata": {
  "kernelspec": {
   "display_name": "Python 3",
   "language": "python",
   "name": "python3"
  },
  "language_info": {
   "codemirror_mode": {
    "name": "ipython",
    "version": 3
   },
   "file_extension": ".py",
   "mimetype": "text/x-python",
   "name": "python",
   "nbconvert_exporter": "python",
   "pygments_lexer": "ipython3",
   "version": "3.7.3"
  }
 },
 "nbformat": 4,
 "nbformat_minor": 2
}
